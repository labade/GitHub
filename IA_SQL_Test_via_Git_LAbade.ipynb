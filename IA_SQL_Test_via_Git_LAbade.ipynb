{
  "nbformat": 4,
  "nbformat_minor": 0,
  "metadata": {
    "colab": {
      "name": "IA SQL Test via Git.ipynb",
      "provenance": [],
      "toc_visible": true,
      "include_colab_link": true
    },
    "kernelspec": {
      "name": "python3",
      "display_name": "Python 3"
    }
  },
  "cells": [
    {
      "cell_type": "markdown",
      "metadata": {
        "id": "view-in-github",
        "colab_type": "text"
      },
      "source": [
        "<a href=\"https://colab.research.google.com/github/labade/GitHub/blob/master/IA_SQL_Test_via_Git_LAbade.ipynb\" target=\"_parent\"><img src=\"https://colab.research.google.com/assets/colab-badge.svg\" alt=\"Open In Colab\"/></a>"
      ]
    },
    {
      "cell_type": "markdown",
      "metadata": {
        "id": "WddxzHqVCBPH",
        "colab_type": "text"
      },
      "source": [
        "# INSTRUCTIONS\n",
        "\n",
        "PLEASE READ EVERYTHING!\n",
        "\n",
        "This is one of two parts to the technical test for Data Analyst roles at notonthehighstreet. This part is designed to test your SQL skills. We use this python powered workbook so you can actually run some queries but you do **not** need any Python experience. In fact, please do not write any Python code. To edit queries simply click on the cells below each question and edit the \"\"\"SELECT...\"\"\" component.\n",
        "\n",
        "\n",
        "First things first, create a new copy of this Jupyter Colab book from the menu options above so you can edit it. Avoid using \"playground mode\" to avoid losing any work due to browser issues/crashes etc.\n",
        "\n",
        "To make your submission you will need to download your workbook as an '.ipynb' file and email it back to us within the three hour period.  **Ensure ALL your queries are runnable** so we can validate your findings. If your queries won't run we may not be able to assess your work.\n",
        "\n",
        "This part of the task shouldn't take more than about an hour.\n",
        "\n",
        "If you have problems with the runtime or need to reset it (without losing your code) you can \"factory reset\" the runtime in the menu above.\n",
        "\n",
        "# Setup\n",
        "\n",
        "The first thing you need to do is make sure you can access the sample database file:\n",
        "\n",
        "`music.db`\n",
        "\n",
        "Run all the cells in this \"Setup\" section to download the files and test they loaded correctly into the environment."
      ]
    },
    {
      "cell_type": "code",
      "metadata": {
        "id": "oCyDHf_EUxJ2",
        "colab_type": "code",
        "colab": {}
      },
      "source": [
        "! git clone https://github.com/noths-ds/ia_challenge"
      ],
      "execution_count": 0,
      "outputs": []
    },
    {
      "cell_type": "markdown",
      "metadata": {
        "id": "n8XH3JkBBETG",
        "colab_type": "text"
      },
      "source": [
        "After running the above cell please make sure that you can see the files `music.db` in the folder \"ia_challenge\" (see folder tab on the left). It may take a few seconds to appear. If you need to redownload for whatever reason, you can delete or rename the old \"ia_challenge\" folder."
      ]
    },
    {
      "cell_type": "markdown",
      "metadata": {
        "id": "shiC6dcdzrXl",
        "colab_type": "text"
      },
      "source": [
        "Now run the cell below (you can ignore the message about the session crashing, it's just restarting the session to update a python package)."
      ]
    },
    {
      "cell_type": "code",
      "metadata": {
        "id": "SNpi5P50zm4c",
        "colab_type": "code",
        "colab": {}
      },
      "source": [
        "!sudo add-apt-repository -y ppa:dqlite/stable\n",
        "!sudo apt update\n",
        "!sudo apt-get install -y sqlite3\n",
        "!sqlite3 --version\n",
        "import os\n",
        "os._exit(00)"
      ],
      "execution_count": 0,
      "outputs": []
    },
    {
      "cell_type": "markdown",
      "metadata": {
        "id": "GRy_7TLsWyew",
        "colab_type": "text"
      },
      "source": [
        "Run the cell below to create the small helper function to make it simpler to run queries against the music database."
      ]
    },
    {
      "cell_type": "code",
      "metadata": {
        "id": "NprvBs_L03G9",
        "colab_type": "code",
        "colab": {}
      },
      "source": [
        "import sqlite3\n",
        "import pandas as pd\n",
        "\n",
        "# NOTE: If you have the file 'music.db' saved somewhere else than the above \n",
        "# you will have modify the path below.\n",
        "def run_query(query):\n",
        "    \"\"\"\n",
        "    Runs the query against the music.db database. If the query succeeds, the result\n",
        "    is returned as a Pandas DataFrame. If the query fails, it prints the error message.\n",
        "    :param conn: the Connection object\n",
        "    :return: A DataFrame containing the result of the query\n",
        "    \"\"\"\n",
        "    try:\n",
        "        # Modify this path if your copy of the file is somewhere else than at\n",
        "        # /ia_challenge/products.db.\n",
        "        #                     |   |   |   |   |   |\n",
        "        #                     v   v   v   v   v   v\n",
        "        with sqlite3.connect('ia_challenge/music.db') as conn:\n",
        "            return pd.read_sql_query(query, conn)\n",
        "    except pd.io.sql.DatabaseError as e:\n",
        "        print(str(e))"
      ],
      "execution_count": 0,
      "outputs": []
    },
    {
      "cell_type": "markdown",
      "metadata": {
        "id": "9fezzFFLAsEU",
        "colab_type": "text"
      },
      "source": [
        "Let's use the above function to check the data loaded properly..."
      ]
    },
    {
      "cell_type": "code",
      "metadata": {
        "id": "95tI_hGT0_x2",
        "colab_type": "code",
        "colab": {}
      },
      "source": [
        "run_query(\"\"\"\n",
        "select\n",
        "  *\n",
        "from\n",
        "  artists\n",
        "\"\"\").head()"
      ],
      "execution_count": 0,
      "outputs": []
    },
    {
      "cell_type": "code",
      "metadata": {
        "id": "9VS5Dw403A5w",
        "colab_type": "code",
        "colab": {}
      },
      "source": [
        "run_query(\"\"\"\n",
        "  select\n",
        "    *\n",
        "  from\n",
        "    playlists\n",
        "\"\"\").head()"
      ],
      "execution_count": 0,
      "outputs": []
    },
    {
      "cell_type": "markdown",
      "metadata": {
        "id": "UVE0f0jU33o9",
        "colab_type": "text"
      },
      "source": [
        "# Task 1 - SQL\n",
        "\n",
        "The goal of the first task is to test your SQL proficiency on a sample database. SQLite is a Postgres type DB which also supports advanced functionality such as window functions and CTEs.\n",
        "\n",
        "Please read each question very carefully.\n",
        "\n",
        "DATABASE DESCRIPTION\n",
        "\n",
        "The database has several tables:\n",
        "\n",
        "`employees` table stores employees data such as employee id, last name, first name, etc. It also has a self referential field named `ReportsTo` to specify who reports to whom.\n",
        "\n",
        "`customers` table stores customers data.\n",
        "\n",
        "`invoices` & `invoice_items` tables: these two tables store invoice data. The `invoices` table stores invoice header data and the `invoice_items` table stores the invoice line-items data. To get the total cost associated with a line-item multiply `UnitPrice` by `Quantity`.\n",
        "\n",
        "`artists` table stores artists data. It is a simple table that contains only the artist id and name.\n",
        "\n",
        "`albums` table stores data about a list of tracks. Each album belongs to one artist. However, one artist may have multiple albums.\n",
        "\n",
        "`media_types` table stores media types such as MPEG audio and AAC audio file.\n",
        "\n",
        "`genres` table stores music types such as rock, jazz, metal, etc.\n",
        "\n",
        "`tracks` table store the data of songs. Each track belongs to one album.\n",
        "\n",
        "`playlists` & `playlist_track` tables: `playlists` table store data about playlists. Each playlist contains a list of tracks. Each track may belong to multiple playlists. The relationship between the `playlists` table and `playlists_track` table is many-to-many. The `playlist_track` table is used to reflect this relationship.\n",
        "\n",
        "DATABASE DESIGN\n",
        "\n",
        "If you cannot see an image describing the structure of the DB here please contact Antonio or Greg!\n",
        "![Music DB](https://drive.google.com/uc?export=view&id=1bQb8jYeZ66nhuWOgpaOOPHH_j8KQY1rB)\n"
      ]
    },
    {
      "cell_type": "markdown",
      "metadata": {
        "id": "hpzO0lT8ZdWS",
        "colab_type": "text"
      },
      "source": [
        "Q1. Please write a query to determine, by genre name, the count of tracks, ordered by count of tracks descending"
      ]
    },
    {
      "cell_type": "code",
      "metadata": {
        "id": "oylpQjA86m3q",
        "colab_type": "code",
        "colab": {}
      },
      "source": [
        "# Please fill in your query below and do not use any additional Python packages\n",
        "\n",
        "query = \"\"\"\n",
        "SELECT...\n",
        "\"\"\"\n",
        "\n",
        "run_query(query) # PLS DO NOT CHANGE THIS LINE"
      ],
      "execution_count": 0,
      "outputs": []
    },
    {
      "cell_type": "markdown",
      "metadata": {
        "id": "FA0PWoUmbsGz",
        "colab_type": "text"
      },
      "source": [
        "Q2. Please write a query which returns, for each genre, the ID and name of the single most popular track in that genre, according to the number of playlists it appears on (include this column too). Please use track name in A-Z order to tiebreak. Please order the final list by genre name A-Z."
      ]
    },
    {
      "cell_type": "code",
      "metadata": {
        "id": "xiSgttS2a4lP",
        "colab_type": "code",
        "colab": {}
      },
      "source": [
        "# Please fill in your query below and do not use any additional Python packages\n",
        "\n",
        "query = \"\"\"\n",
        "SELECT...\n",
        "\"\"\"\n",
        "\n",
        "run_query(query) # PLS DO NOT CHANGE THIS LINE"
      ],
      "execution_count": 0,
      "outputs": []
    },
    {
      "cell_type": "markdown",
      "metadata": {
        "id": "wBWUZGg9fTyM",
        "colab_type": "text"
      },
      "source": [
        "Q3. Please write a query that shows the total number of times **all** tracks (ID and name) have been bought (i.e. from `invoice_items.Quantity`) and the total amount of associated costs, from invoices dated for the inclusive period 2009-01-01 to 2014-01-01. Please order tracks by total purchases descending and track id ascending."
      ]
    },
    {
      "cell_type": "code",
      "metadata": {
        "id": "PW01ceUDgEEg",
        "colab_type": "code",
        "colab": {}
      },
      "source": [
        "# Please fill in your query below and do not use any additional Python packages\n",
        "\n",
        "query = \"\"\"\n",
        "SELECT...\n",
        "\"\"\"\n",
        "\n",
        "run_query(query) # PLS DO NOT CHANGE THIS LINE"
      ],
      "execution_count": 0,
      "outputs": []
    }
  ]
}